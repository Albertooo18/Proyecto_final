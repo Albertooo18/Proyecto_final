{
  "nbformat": 4,
  "nbformat_minor": 0,
  "metadata": {
    "colab": {
      "provenance": [],
      "include_colab_link": true
    },
    "kernelspec": {
      "name": "python3",
      "display_name": "Python 3"
    },
    "language_info": {
      "name": "python"
    },
    "accelerator": "GPU",
    "gpuClass": "standard"
  },
  "cells": [
    {
      "cell_type": "markdown",
      "metadata": {
        "id": "view-in-github",
        "colab_type": "text"
      },
      "source": [
        "<a href=\"https://colab.research.google.com/github/Albertooo18/Proyecto_final/blob/main/Google_colabs/clasificacion_2_0.ipynb\" target=\"_parent\"><img src=\"https://colab.research.google.com/assets/colab-badge.svg\" alt=\"Open In Colab\"/></a>"
      ]
    },
    {
      "cell_type": "code",
      "source": [
        "#Crear las carpetas para subir las imagenes\n",
        "!mkdir apples\n",
        "!mkdir bananas"
      ],
      "metadata": {
        "id": "ckcRvUNjNe2E"
      },
      "execution_count": null,
      "outputs": []
    },
    {
      "cell_type": "code",
      "source": [
        "#Entrar en cada carpeta y descomprimir el archivo zip\n",
        "%cd apples\n",
        "!unzip apples.zip\n",
        "%cd .."
      ],
      "metadata": {
        "id": "sbGYdEmuNlc8"
      },
      "execution_count": null,
      "outputs": []
    },
    {
      "cell_type": "code",
      "source": [
        "%cd bananas\n",
        "!unzip bananas.zip\n",
        "%cd .."
      ],
      "metadata": {
        "id": "wbJud_PTNnzu"
      },
      "execution_count": null,
      "outputs": []
    },
    {
      "cell_type": "code",
      "source": [
        "!rm -rf /content/apples/apples.zip\n",
        "!rm -rf /content/bananas/bananas.zip"
      ],
      "metadata": {
        "id": "jyI9WquzNqk0"
      },
      "execution_count": null,
      "outputs": []
    },
    {
      "cell_type": "code",
      "source": [
        "#Mostrar cuantas imagenes tengo de cada categoria\n",
        "!ls /content/apples/apples | wc -l\n",
        "!ls /content/bananas/bananas | wc -l"
      ],
      "metadata": {
        "id": "QlRPZ9qvNy3q"
      },
      "execution_count": null,
      "outputs": []
    },
    {
      "cell_type": "code",
      "source": [
        "!mkdir dataset\n",
        "!mkdir dataset/apple\n",
        "!mkdir dataset/banana"
      ],
      "metadata": {
        "id": "WlADEqqON176"
      },
      "execution_count": null,
      "outputs": []
    },
    {
      "cell_type": "code",
      "source": [
        "import shutil\n",
        "carpeta_fuente = '/content/apples/apples'\n",
        "carpeta_destino = '/content/dataset/apple'\n",
        "\n",
        "imagenes = os.listdir(carpeta_fuente)\n",
        "\n",
        "for i, nombreimg in enumerate(imagenes):\n",
        "  if i < 190:\n",
        "    #Copia de la carpeta fuente a la destino\n",
        "    shutil.copy(carpeta_fuente + '/' + nombreimg, carpeta_destino + '/' + nombreimg)"
      ],
      "metadata": {
        "id": "wm-J1cF6N5Kb"
      },
      "execution_count": null,
      "outputs": []
    },
    {
      "cell_type": "code",
      "source": [
        "carpeta_fuente = '/content/bananas/bananas'\n",
        "carpeta_destino = '/content/dataset/banana'\n",
        "\n",
        "imagenes = os.listdir(carpeta_fuente)\n",
        "\n",
        "for i, nombreimg in enumerate(imagenes):\n",
        "  if i < 190:\n",
        "    #Copia de la carpeta fuente a la destino\n",
        "    shutil.copy(carpeta_fuente + '/' + nombreimg, carpeta_destino + '/' + nombreimg)"
      ],
      "metadata": {
        "id": "CDxMOdvAN6si"
      },
      "execution_count": null,
      "outputs": []
    },
    {
      "cell_type": "code",
      "source": [
        "import tensorflow as tf\n",
        "from tensorflow.keras.preprocessing.image import ImageDataGenerator\n",
        "import os\n",
        "import numpy as np\n",
        "import matplotlib.pyplot as plt"
      ],
      "metadata": {
        "id": "BhxcyfIFN-UB"
      },
      "execution_count": null,
      "outputs": []
    },
    {
      "cell_type": "code",
      "source": [
        "\"\"\" carpeta_entrenamiento = os.path.join('/content/drive/MyDrive/clasificacion_de_imagenes/clasificacion_2.0/Fruits_Dataset_1.1/Train_1.1')\n",
        "carpeta_validacion = os.path.join('/content/drive/MyDrive/clasificacion_de_imagenes/clasificacion_2.0/Fruits_Dataset_1.1/Test_1.1')  \"\"\"\n"
      ],
      "metadata": {
        "id": "So1_2LY9Pw1a"
      },
      "execution_count": null,
      "outputs": []
    },
    {
      "cell_type": "code",
      "source": [
        "\"\"\" carp_entren_apple = os.path.join('/content/drive/MyDrive/clasificacion_de_imagenes/clasificacion_2.0/Fruits_Dataset_1.1/Train_1.1/apple_1.1')  # imagenes de manzanas para pruebas\n",
        "carpeta_entren_banana = os.path.join('/content/drive/MyDrive/clasificacion_de_imagenes/clasificacion_2.0/Fruits_Dataset_1.1/Train_1.1/banana_1.1')  # imagenes de bananas para pruebas\n",
        "carpeta_val_apple = os.path.join('/content/drive/MyDrive/clasificacion_de_imagenes/clasificacion_2.0/Fruits_Dataset_1.1/Test_1.1/apple_1.1')  # imagenes de manzanas para validacion\n",
        "carpeta_val_banana = os.path.join('/content/drive/MyDrive/clasificacion_de_imagenes/clasificacion_2.0/Fruits_Dataset_1.1/Test_1.1/banana_1.1')  # imagenes de bananas para validacion \"\"\""
      ],
      "metadata": {
        "id": "pFvj17eCN-Zu"
      },
      "execution_count": null,
      "outputs": []
    },
    {
      "cell_type": "code",
      "source": [
        "num_apple_entren = len(os.listdir(carp_entren_apple))\n",
        "num_banana_entren = len(os.listdir(carpeta_entren_banana))\n",
        "num_apple_val = len(os.listdir(carpeta_val_apple))\n",
        "num_banana_val = len(os.listdir(carpeta_val_banana))\n",
        "total_entrenamiento = num_apple_entren + num_banana_entren\n",
        "total_val = num_apple_val + num_banana_val\n",
        "\n",
        "TAMANO_LOTE = 100\n",
        "TAMANO_IMG = 150"
      ],
      "metadata": {
        "id": "i5j-OGA8Oxfj"
      },
      "execution_count": null,
      "outputs": []
    },
    {
      "cell_type": "code",
      "source": [
        "#Aumento de datos\n",
        "print(\"Realizando aumento de datos\")\n",
        "image_gen_entrenamiento = ImageDataGenerator(\n",
        "      rescale=1./255,\n",
        "      rotation_range=40,\n",
        "      width_shift_range=0.2,\n",
        "      height_shift_range=0.2,\n",
        "      shear_range=0.2,\n",
        "      zoom_range=0.2,\n",
        "      horizontal_flip=True,\n",
        "      fill_mode='nearest')\n"
      ],
      "metadata": {
        "colab": {
          "base_uri": "https://localhost:8080/"
        },
        "id": "QCHHi-IZO03h",
        "outputId": "f7088566-f8de-43fa-8d83-72aa83e9b601"
      },
      "execution_count": null,
      "outputs": [
        {
          "output_type": "stream",
          "name": "stdout",
          "text": [
            "Realizando aumento de datos\n"
          ]
        }
      ]
    },
    {
      "cell_type": "code",
      "source": [
        "#Generacion de datos de entrenamiento FTW\n",
        "data_gen_entrenamiento = image_gen_entrenamiento.flow_from_directory(batch_size=TAMANO_LOTE,\n",
        "                                                     directory=carpeta_entrenamiento,\n",
        "                                                     shuffle=True,\n",
        "                                                     target_size=(TAMANO_IMG,TAMANO_IMG),\n",
        "                                                     class_mode='binary')\n",
        "\n",
        "#Generacion de datos de validacion\n",
        "image_gen_val = ImageDataGenerator(rescale=1./255)\n",
        "\n",
        "data_gen_validacion = image_gen_val.flow_from_directory(batch_size=TAMANO_LOTE,\n",
        "                                                 directory=carpeta_validacion,\n",
        "                                                 target_size=(TAMANO_IMG, TAMANO_IMG),\n",
        "                                                 class_mode='binary')"
      ],
      "metadata": {
        "colab": {
          "base_uri": "https://localhost:8080/"
        },
        "id": "E6KvoCqzO3X7",
        "outputId": "780a6ccd-7f22-4ac6-b21f-4fb4cd372b9e"
      },
      "execution_count": null,
      "outputs": [
        {
          "output_type": "stream",
          "name": "stdout",
          "text": [
            "Found 203 images belonging to 2 classes.\n",
            "Found 187 images belonging to 2 classes.\n"
          ]
        }
      ]
    },
    {
      "cell_type": "code",
      "source": [
        "#Modelo!\n",
        "modelo = tf.keras.models.Sequential([\n",
        "    tf.keras.layers.Conv2D(32, (3,3), activation='relu', input_shape=(150, 150, 3)),\n",
        "    tf.keras.layers.MaxPooling2D(2, 2),\n",
        "\n",
        "    tf.keras.layers.Conv2D(64, (3,3), activation='relu'),\n",
        "    tf.keras.layers.MaxPooling2D(2,2),\n",
        "\n",
        "    tf.keras.layers.Conv2D(128, (3,3), activation='relu'),\n",
        "    tf.keras.layers.MaxPooling2D(2,2),\n",
        "\n",
        "    tf.keras.layers.Conv2D(128, (3,3), activation='relu'),\n",
        "    tf.keras.layers.MaxPooling2D(2,2),\n",
        "\n",
        "    tf.keras.layers.Dropout(0.5),\n",
        "    tf.keras.layers.Flatten(),\n",
        "    tf.keras.layers.Dense(512, activation='relu'),\n",
        "    tf.keras.layers.Dense(2)\n",
        "])"
      ],
      "metadata": {
        "id": "RijGgxzYTQ7b"
      },
      "execution_count": null,
      "outputs": []
    },
    {
      "cell_type": "code",
      "source": [
        "#Compilación\n",
        "modelo.compile(optimizer='adam',\n",
        "              loss=tf.keras.losses.SparseCategoricalCrossentropy(from_logits=True),\n",
        "              metrics=['accuracy'])"
      ],
      "metadata": {
        "id": "x1cZ5eoRTTNh"
      },
      "execution_count": null,
      "outputs": []
    },
    {
      "cell_type": "code",
      "source": [
        "#Entrenamiento\n",
        "print(\"Entrenando modelo...\");\n",
        "epocas=60\n",
        "history = modelo.fit_generator(\n",
        "    data_gen_entrenamiento,\n",
        "    steps_per_epoch=int(np.ceil(total_entrenamiento / float(TAMANO_LOTE))),\n",
        "    epochs=epocas,\n",
        "    validation_data=data_gen_validacion,\n",
        "    validation_steps=int(np.ceil(total_val / float(TAMANO_LOTE)))\n",
        ")\n",
        "\n",
        "print(\"Modelo entrenado!\");"
      ],
      "metadata": {
        "colab": {
          "base_uri": "https://localhost:8080/"
        },
        "id": "s7NixbjmTZ7b",
        "outputId": "f74faed6-1dbb-4aec-b9e6-62965ba5f350"
      },
      "execution_count": null,
      "outputs": [
        {
          "output_type": "stream",
          "name": "stdout",
          "text": [
            "Entrenando modelo...\n"
          ]
        },
        {
          "output_type": "stream",
          "name": "stderr",
          "text": [
            "<ipython-input-31-cac65dffc3e0>:4: UserWarning: `Model.fit_generator` is deprecated and will be removed in a future version. Please use `Model.fit`, which supports generators.\n",
            "  history = modelo.fit_generator(\n"
          ]
        },
        {
          "output_type": "stream",
          "name": "stdout",
          "text": [
            "Epoch 1/60\n",
            "3/3 [==============================] - 14s 1s/step - loss: 0.6518 - accuracy: 0.4877 - val_loss: 0.9420 - val_accuracy: 0.5722\n",
            "Epoch 2/60\n",
            "3/3 [==============================] - 3s 1s/step - loss: 0.6583 - accuracy: 0.5369 - val_loss: 0.6313 - val_accuracy: 0.4706\n",
            "Epoch 3/60\n",
            "3/3 [==============================] - 3s 1s/step - loss: 0.6907 - accuracy: 0.5419 - val_loss: 0.6553 - val_accuracy: 0.4545\n",
            "Epoch 4/60\n",
            "3/3 [==============================] - 3s 1s/step - loss: 0.5549 - accuracy: 0.7291 - val_loss: 0.5379 - val_accuracy: 0.8235\n",
            "Epoch 5/60\n",
            "3/3 [==============================] - 3s 943ms/step - loss: 0.5462 - accuracy: 0.7389 - val_loss: 0.5623 - val_accuracy: 0.6738\n",
            "Epoch 6/60\n",
            "3/3 [==============================] - 3s 894ms/step - loss: 0.5190 - accuracy: 0.6749 - val_loss: 0.4155 - val_accuracy: 0.8021\n",
            "Epoch 7/60\n",
            "3/3 [==============================] - 3s 1s/step - loss: 0.3258 - accuracy: 0.9015 - val_loss: 0.2515 - val_accuracy: 0.8877\n",
            "Epoch 8/60\n",
            "3/3 [==============================] - 3s 907ms/step - loss: 0.2591 - accuracy: 0.8867 - val_loss: 0.4833 - val_accuracy: 0.7914\n",
            "Epoch 9/60\n",
            "3/3 [==============================] - 3s 1s/step - loss: 0.5897 - accuracy: 0.7586 - val_loss: 0.1484 - val_accuracy: 0.8770\n",
            "Epoch 10/60\n",
            "3/3 [==============================] - 3s 946ms/step - loss: 0.3036 - accuracy: 0.8522 - val_loss: 0.2192 - val_accuracy: 0.8824\n",
            "Epoch 11/60\n",
            "3/3 [==============================] - 3s 884ms/step - loss: 0.3428 - accuracy: 0.8128 - val_loss: 0.1813 - val_accuracy: 0.9786\n",
            "Epoch 12/60\n",
            "3/3 [==============================] - 3s 1s/step - loss: 0.3201 - accuracy: 0.8867 - val_loss: 0.2786 - val_accuracy: 0.8717\n",
            "Epoch 13/60\n",
            "3/3 [==============================] - 3s 953ms/step - loss: 0.2722 - accuracy: 0.8719 - val_loss: 0.1127 - val_accuracy: 0.9786\n",
            "Epoch 14/60\n",
            "3/3 [==============================] - 3s 943ms/step - loss: 0.1478 - accuracy: 0.9458 - val_loss: 0.3177 - val_accuracy: 0.9091\n",
            "Epoch 15/60\n",
            "3/3 [==============================] - 3s 1s/step - loss: 0.2333 - accuracy: 0.8966 - val_loss: 0.1619 - val_accuracy: 0.8877\n",
            "Epoch 16/60\n",
            "3/3 [==============================] - 3s 891ms/step - loss: 0.2155 - accuracy: 0.8867 - val_loss: 0.1371 - val_accuracy: 0.8877\n",
            "Epoch 17/60\n",
            "3/3 [==============================] - 3s 905ms/step - loss: 0.1951 - accuracy: 0.9113 - val_loss: 0.1817 - val_accuracy: 0.9519\n",
            "Epoch 18/60\n",
            "3/3 [==============================] - 3s 1s/step - loss: 0.2512 - accuracy: 0.8818 - val_loss: 0.2182 - val_accuracy: 0.9305\n",
            "Epoch 19/60\n",
            "3/3 [==============================] - 3s 906ms/step - loss: 0.2184 - accuracy: 0.9064 - val_loss: 0.1509 - val_accuracy: 0.9572\n",
            "Epoch 20/60\n",
            "3/3 [==============================] - 3s 1s/step - loss: 0.1470 - accuracy: 0.9507 - val_loss: 0.1132 - val_accuracy: 0.9840\n",
            "Epoch 21/60\n",
            "3/3 [==============================] - 3s 870ms/step - loss: 0.1113 - accuracy: 0.9458 - val_loss: 0.1320 - val_accuracy: 0.9091\n",
            "Epoch 22/60\n",
            "3/3 [==============================] - 3s 1s/step - loss: 0.3113 - accuracy: 0.8867 - val_loss: 0.1228 - val_accuracy: 0.9786\n",
            "Epoch 23/60\n",
            "3/3 [==============================] - 3s 1s/step - loss: 0.3839 - accuracy: 0.8177 - val_loss: 0.6525 - val_accuracy: 0.7807\n",
            "Epoch 24/60\n",
            "3/3 [==============================] - 3s 886ms/step - loss: 0.4301 - accuracy: 0.7586 - val_loss: 0.2865 - val_accuracy: 0.9144\n",
            "Epoch 25/60\n",
            "3/3 [==============================] - 3s 932ms/step - loss: 0.2502 - accuracy: 0.8818 - val_loss: 0.3831 - val_accuracy: 0.8449\n",
            "Epoch 26/60\n",
            "3/3 [==============================] - 3s 1s/step - loss: 0.4920 - accuracy: 0.8325 - val_loss: 0.4490 - val_accuracy: 0.8235\n",
            "Epoch 27/60\n",
            "3/3 [==============================] - 3s 886ms/step - loss: 0.4126 - accuracy: 0.8325 - val_loss: 0.2912 - val_accuracy: 0.8556\n",
            "Epoch 28/60\n",
            "3/3 [==============================] - 3s 904ms/step - loss: 0.2727 - accuracy: 0.8768 - val_loss: 0.3742 - val_accuracy: 0.8235\n",
            "Epoch 29/60\n",
            "3/3 [==============================] - 3s 877ms/step - loss: 0.2639 - accuracy: 0.9310 - val_loss: 0.4304 - val_accuracy: 0.8182\n",
            "Epoch 30/60\n",
            "3/3 [==============================] - 3s 1s/step - loss: 0.1957 - accuracy: 0.8916 - val_loss: 0.5747 - val_accuracy: 0.8021\n",
            "Epoch 31/60\n",
            "3/3 [==============================] - 3s 891ms/step - loss: 0.2250 - accuracy: 0.9163 - val_loss: 0.9590 - val_accuracy: 0.7754\n",
            "Epoch 32/60\n",
            "3/3 [==============================] - 3s 1s/step - loss: 0.1501 - accuracy: 0.9557 - val_loss: 0.7394 - val_accuracy: 0.8021\n",
            "Epoch 33/60\n",
            "3/3 [==============================] - 3s 1s/step - loss: 0.1183 - accuracy: 0.9409 - val_loss: 0.7061 - val_accuracy: 0.8930\n",
            "Epoch 34/60\n",
            "3/3 [==============================] - 3s 1s/step - loss: 0.1676 - accuracy: 0.9212 - val_loss: 0.3868 - val_accuracy: 0.9412\n",
            "Epoch 35/60\n",
            "3/3 [==============================] - 3s 1s/step - loss: 0.0749 - accuracy: 0.9655 - val_loss: 0.4729 - val_accuracy: 0.9144\n",
            "Epoch 36/60\n",
            "3/3 [==============================] - 3s 1s/step - loss: 0.1357 - accuracy: 0.9409 - val_loss: 0.3774 - val_accuracy: 0.9358\n",
            "Epoch 37/60\n",
            "3/3 [==============================] - 3s 922ms/step - loss: 0.1315 - accuracy: 0.9606 - val_loss: 0.2989 - val_accuracy: 0.9679\n",
            "Epoch 38/60\n",
            "3/3 [==============================] - 3s 887ms/step - loss: 0.0979 - accuracy: 0.9655 - val_loss: 0.3990 - val_accuracy: 0.9358\n",
            "Epoch 39/60\n",
            "3/3 [==============================] - 3s 1s/step - loss: 0.0654 - accuracy: 0.9655 - val_loss: 0.3845 - val_accuracy: 0.9465\n",
            "Epoch 40/60\n",
            "3/3 [==============================] - 3s 904ms/step - loss: 0.0695 - accuracy: 0.9852 - val_loss: 0.3295 - val_accuracy: 0.9626\n",
            "Epoch 41/60\n",
            "3/3 [==============================] - 3s 1s/step - loss: 0.0451 - accuracy: 0.9803 - val_loss: 0.3411 - val_accuracy: 0.9626\n",
            "Epoch 42/60\n",
            "3/3 [==============================] - 3s 1s/step - loss: 0.0916 - accuracy: 0.9754 - val_loss: 0.5938 - val_accuracy: 0.9144\n",
            "Epoch 43/60\n",
            "3/3 [==============================] - 3s 894ms/step - loss: 0.1028 - accuracy: 0.9606 - val_loss: 0.2872 - val_accuracy: 0.9679\n",
            "Epoch 44/60\n",
            "3/3 [==============================] - 3s 1s/step - loss: 0.0940 - accuracy: 0.9557 - val_loss: 0.2080 - val_accuracy: 0.9733\n",
            "Epoch 45/60\n",
            "3/3 [==============================] - 3s 880ms/step - loss: 0.1092 - accuracy: 0.9557 - val_loss: 0.4675 - val_accuracy: 0.9091\n",
            "Epoch 46/60\n",
            "3/3 [==============================] - 3s 899ms/step - loss: 0.0998 - accuracy: 0.9655 - val_loss: 0.7178 - val_accuracy: 0.8770\n",
            "Epoch 47/60\n",
            "3/3 [==============================] - 3s 915ms/step - loss: 0.1951 - accuracy: 0.9163 - val_loss: 0.5793 - val_accuracy: 0.8930\n",
            "Epoch 48/60\n",
            "3/3 [==============================] - 3s 1s/step - loss: 0.1467 - accuracy: 0.9360 - val_loss: 0.3118 - val_accuracy: 0.9465\n",
            "Epoch 49/60\n",
            "3/3 [==============================] - 3s 886ms/step - loss: 0.0489 - accuracy: 0.9754 - val_loss: 0.1954 - val_accuracy: 0.9840\n",
            "Epoch 50/60\n",
            "3/3 [==============================] - 3s 919ms/step - loss: 0.1099 - accuracy: 0.9557 - val_loss: 0.5151 - val_accuracy: 0.9091\n",
            "Epoch 51/60\n",
            "3/3 [==============================] - 3s 1s/step - loss: 0.2003 - accuracy: 0.9409 - val_loss: 0.5746 - val_accuracy: 0.9037\n",
            "Epoch 52/60\n",
            "3/3 [==============================] - 3s 1s/step - loss: 0.0711 - accuracy: 0.9655 - val_loss: 0.2627 - val_accuracy: 0.9679\n",
            "Epoch 53/60\n",
            "3/3 [==============================] - 3s 1s/step - loss: 0.0828 - accuracy: 0.9606 - val_loss: 0.2065 - val_accuracy: 0.9786\n",
            "Epoch 54/60\n",
            "3/3 [==============================] - 3s 941ms/step - loss: 0.0808 - accuracy: 0.9704 - val_loss: 0.1960 - val_accuracy: 0.9786\n",
            "Epoch 55/60\n",
            "3/3 [==============================] - 3s 897ms/step - loss: 0.0737 - accuracy: 0.9507 - val_loss: 0.2120 - val_accuracy: 0.9786\n",
            "Epoch 56/60\n",
            "3/3 [==============================] - 3s 1s/step - loss: 0.0760 - accuracy: 0.9754 - val_loss: 0.2677 - val_accuracy: 0.9626\n",
            "Epoch 57/60\n",
            "3/3 [==============================] - 3s 897ms/step - loss: 0.0568 - accuracy: 0.9852 - val_loss: 0.3766 - val_accuracy: 0.9305\n",
            "Epoch 58/60\n",
            "3/3 [==============================] - 3s 1s/step - loss: 0.0487 - accuracy: 0.9951 - val_loss: 0.3912 - val_accuracy: 0.9305\n",
            "Epoch 59/60\n",
            "3/3 [==============================] - 3s 918ms/step - loss: 0.0462 - accuracy: 0.9901 - val_loss: 0.3138 - val_accuracy: 0.9465\n",
            "Epoch 60/60\n",
            "3/3 [==============================] - 3s 911ms/step - loss: 0.0383 - accuracy: 0.9803 - val_loss: 0.2923 - val_accuracy: 0.9572\n",
            "Modelo entrenado!\n"
          ]
        }
      ]
    },
    {
      "cell_type": "code",
      "source": [
        "modelo.save('apple-banana.h5')"
      ],
      "metadata": {
        "id": "rY35vNtVUfKK"
      },
      "execution_count": null,
      "outputs": []
    },
    {
      "cell_type": "code",
      "source": [
        "!pip install tensorflowjs"
      ],
      "metadata": {
        "colab": {
          "base_uri": "https://localhost:8080/"
        },
        "id": "hGd0rDw9Uh7h",
        "outputId": "a03a33ca-5dec-4f0a-ea17-740aab352e06"
      },
      "execution_count": null,
      "outputs": [
        {
          "output_type": "stream",
          "name": "stdout",
          "text": [
            "Looking in indexes: https://pypi.org/simple, https://us-python.pkg.dev/colab-wheels/public/simple/\n",
            "Collecting tensorflowjs\n",
            "  Downloading tensorflowjs-4.2.0-py3-none-any.whl (84 kB)\n",
            "\u001b[2K     \u001b[90m━━━━━━━━━━━━━━━━━━━━━━━━━━━━━━━━━━━━━━━━\u001b[0m \u001b[32m84.5/84.5 KB\u001b[0m \u001b[31m6.9 MB/s\u001b[0m eta \u001b[36m0:00:00\u001b[0m\n",
            "\u001b[?25hRequirement already satisfied: tensorflow-hub<0.13,>=0.7.0 in /usr/local/lib/python3.8/dist-packages (from tensorflowjs) (0.12.0)\n",
            "Requirement already satisfied: importlib_resources>=5.9.0 in /usr/local/lib/python3.8/dist-packages (from tensorflowjs) (5.10.2)\n",
            "Collecting flax>=0.6.2\n",
            "  Downloading flax-0.6.3-py3-none-any.whl (197 kB)\n",
            "\u001b[2K     \u001b[90m━━━━━━━━━━━━━━━━━━━━━━━━━━━━━━━━━━━━━━\u001b[0m \u001b[32m197.4/197.4 KB\u001b[0m \u001b[31m19.5 MB/s\u001b[0m eta \u001b[36m0:00:00\u001b[0m\n",
            "\u001b[?25hCollecting tensorflow-decision-forests>=1.0.1\n",
            "  Downloading tensorflow_decision_forests-1.1.0-cp38-cp38-manylinux_2_17_x86_64.manylinux2014_x86_64.whl (16.2 MB)\n",
            "\u001b[2K     \u001b[90m━━━━━━━━━━━━━━━━━━━━━━━━━━━━━━━━━━━━━━━━\u001b[0m \u001b[32m16.2/16.2 MB\u001b[0m \u001b[31m83.9 MB/s\u001b[0m eta \u001b[36m0:00:00\u001b[0m\n",
            "\u001b[?25hRequirement already satisfied: protobuf<3.20,>=3.9.2 in /usr/local/lib/python3.8/dist-packages (from tensorflowjs) (3.19.6)\n",
            "Requirement already satisfied: six<2,>=1.12.0 in /usr/local/lib/python3.8/dist-packages (from tensorflowjs) (1.15.0)\n",
            "Collecting packaging~=20.9\n",
            "  Downloading packaging-20.9-py2.py3-none-any.whl (40 kB)\n",
            "\u001b[2K     \u001b[90m━━━━━━━━━━━━━━━━━━━━━━━━━━━━━━━━━━━━━━━\u001b[0m \u001b[32m40.9/40.9 KB\u001b[0m \u001b[31m247.1 kB/s\u001b[0m eta \u001b[36m0:00:00\u001b[0m\n",
            "\u001b[?25hCollecting tensorflow<3,>=2.10.0\n",
            "  Downloading tensorflow-2.11.0-cp38-cp38-manylinux_2_17_x86_64.manylinux2014_x86_64.whl (588.3 MB)\n",
            "\u001b[2K     \u001b[90m━━━━━━━━━━━━━━━━━━━━━━━━━━━━━━━━━━━━━━━\u001b[0m \u001b[32m588.3/588.3 MB\u001b[0m \u001b[31m2.7 MB/s\u001b[0m eta \u001b[36m0:00:00\u001b[0m\n",
            "\u001b[?25hRequirement already satisfied: jax>=0.3.16 in /usr/local/lib/python3.8/dist-packages (from tensorflowjs) (0.3.25)\n",
            "Collecting tensorstore\n",
            "  Downloading tensorstore-0.1.30-cp38-cp38-manylinux_2_17_x86_64.manylinux2014_x86_64.whl (8.3 MB)\n",
            "\u001b[2K     \u001b[90m━━━━━━━━━━━━━━━━━━━━━━━━━━━━━━━━━━━━━━━━\u001b[0m \u001b[32m8.3/8.3 MB\u001b[0m \u001b[31m106.0 MB/s\u001b[0m eta \u001b[36m0:00:00\u001b[0m\n",
            "\u001b[?25hRequirement already satisfied: numpy>=1.12 in /usr/local/lib/python3.8/dist-packages (from flax>=0.6.2->tensorflowjs) (1.21.6)\n",
            "Collecting rich>=11.1\n",
            "  Downloading rich-13.1.0-py3-none-any.whl (238 kB)\n",
            "\u001b[2K     \u001b[90m━━━━━━━━━━━━━━━━━━━━━━━━━━━━━━━━━━━━━━\u001b[0m \u001b[32m238.4/238.4 KB\u001b[0m \u001b[31m31.4 MB/s\u001b[0m eta \u001b[36m0:00:00\u001b[0m\n",
            "\u001b[?25hCollecting optax\n",
            "  Downloading optax-0.1.4-py3-none-any.whl (154 kB)\n",
            "\u001b[2K     \u001b[90m━━━━━━━━━━━━━━━━━━━━━━━━━━━━━━━━━━━━━━\u001b[0m \u001b[32m154.9/154.9 KB\u001b[0m \u001b[31m21.2 MB/s\u001b[0m eta \u001b[36m0:00:00\u001b[0m\n",
            "\u001b[?25hRequirement already satisfied: matplotlib in /usr/local/lib/python3.8/dist-packages (from flax>=0.6.2->tensorflowjs) (3.2.2)\n",
            "Requirement already satisfied: PyYAML>=5.4.1 in /usr/local/lib/python3.8/dist-packages (from flax>=0.6.2->tensorflowjs) (6.0)\n",
            "Collecting orbax\n",
            "  Downloading orbax-0.1.0-py3-none-any.whl (66 kB)\n",
            "\u001b[2K     \u001b[90m━━━━━━━━━━━━━━━━━━━━━━━━━━━━━━━━━━━━━━━━\u001b[0m \u001b[32m67.0/67.0 KB\u001b[0m \u001b[31m10.7 MB/s\u001b[0m eta \u001b[36m0:00:00\u001b[0m\n",
            "\u001b[?25hRequirement already satisfied: typing-extensions>=4.1.1 in /usr/local/lib/python3.8/dist-packages (from flax>=0.6.2->tensorflowjs) (4.4.0)\n",
            "Requirement already satisfied: msgpack in /usr/local/lib/python3.8/dist-packages (from flax>=0.6.2->tensorflowjs) (1.0.4)\n",
            "Requirement already satisfied: zipp>=3.1.0 in /usr/local/lib/python3.8/dist-packages (from importlib_resources>=5.9.0->tensorflowjs) (3.11.0)\n",
            "Requirement already satisfied: opt-einsum in /usr/local/lib/python3.8/dist-packages (from jax>=0.3.16->tensorflowjs) (3.3.0)\n",
            "Requirement already satisfied: scipy>=1.5 in /usr/local/lib/python3.8/dist-packages (from jax>=0.3.16->tensorflowjs) (1.7.3)\n",
            "Requirement already satisfied: pyparsing>=2.0.2 in /usr/local/lib/python3.8/dist-packages (from packaging~=20.9->tensorflowjs) (3.0.9)\n",
            "Collecting tensorboard<2.12,>=2.11\n",
            "  Downloading tensorboard-2.11.2-py3-none-any.whl (6.0 MB)\n",
            "\u001b[2K     \u001b[90m━━━━━━━━━━━━━━━━━━━━━━━━━━━━━━━━━━━━━━━━\u001b[0m \u001b[32m6.0/6.0 MB\u001b[0m \u001b[31m95.7 MB/s\u001b[0m eta \u001b[36m0:00:00\u001b[0m\n",
            "\u001b[?25hRequirement already satisfied: libclang>=13.0.0 in /usr/local/lib/python3.8/dist-packages (from tensorflow<3,>=2.10.0->tensorflowjs) (14.0.6)\n",
            "Collecting flatbuffers>=2.0\n",
            "  Downloading flatbuffers-23.1.4-py2.py3-none-any.whl (26 kB)\n",
            "Collecting tensorflow-estimator<2.12,>=2.11.0\n",
            "  Downloading tensorflow_estimator-2.11.0-py2.py3-none-any.whl (439 kB)\n",
            "\u001b[2K     \u001b[90m━━━━━━━━━━━━━━━━━━━━━━━━━━━━━━━━━━━━━━\u001b[0m \u001b[32m439.2/439.2 KB\u001b[0m \u001b[31m43.1 MB/s\u001b[0m eta \u001b[36m0:00:00\u001b[0m\n",
            "\u001b[?25hRequirement already satisfied: tensorflow-io-gcs-filesystem>=0.23.1 in /usr/local/lib/python3.8/dist-packages (from tensorflow<3,>=2.10.0->tensorflowjs) (0.29.0)\n",
            "Requirement already satisfied: h5py>=2.9.0 in /usr/local/lib/python3.8/dist-packages (from tensorflow<3,>=2.10.0->tensorflowjs) (3.1.0)\n",
            "Requirement already satisfied: grpcio<2.0,>=1.24.3 in /usr/local/lib/python3.8/dist-packages (from tensorflow<3,>=2.10.0->tensorflowjs) (1.51.1)\n",
            "Requirement already satisfied: setuptools in /usr/local/lib/python3.8/dist-packages (from tensorflow<3,>=2.10.0->tensorflowjs) (57.4.0)\n",
            "Requirement already satisfied: astunparse>=1.6.0 in /usr/local/lib/python3.8/dist-packages (from tensorflow<3,>=2.10.0->tensorflowjs) (1.6.3)\n",
            "Requirement already satisfied: google-pasta>=0.1.1 in /usr/local/lib/python3.8/dist-packages (from tensorflow<3,>=2.10.0->tensorflowjs) (0.2.0)\n",
            "Collecting keras<2.12,>=2.11.0\n",
            "  Downloading keras-2.11.0-py2.py3-none-any.whl (1.7 MB)\n",
            "\u001b[2K     \u001b[90m━━━━━━━━━━━━━━━━━━━━━━━━━━━━━━━━━━━━━━━━\u001b[0m \u001b[32m1.7/1.7 MB\u001b[0m \u001b[31m71.8 MB/s\u001b[0m eta \u001b[36m0:00:00\u001b[0m\n",
            "\u001b[?25hRequirement already satisfied: absl-py>=1.0.0 in /usr/local/lib/python3.8/dist-packages (from tensorflow<3,>=2.10.0->tensorflowjs) (1.3.0)\n",
            "Requirement already satisfied: wrapt>=1.11.0 in /usr/local/lib/python3.8/dist-packages (from tensorflow<3,>=2.10.0->tensorflowjs) (1.14.1)\n",
            "Requirement already satisfied: gast<=0.4.0,>=0.2.1 in /usr/local/lib/python3.8/dist-packages (from tensorflow<3,>=2.10.0->tensorflowjs) (0.4.0)\n",
            "Requirement already satisfied: termcolor>=1.1.0 in /usr/local/lib/python3.8/dist-packages (from tensorflow<3,>=2.10.0->tensorflowjs) (2.2.0)\n",
            "Requirement already satisfied: pandas in /usr/local/lib/python3.8/dist-packages (from tensorflow-decision-forests>=1.0.1->tensorflowjs) (1.3.5)\n",
            "Collecting wurlitzer\n",
            "  Downloading wurlitzer-3.0.3-py3-none-any.whl (7.3 kB)\n",
            "Requirement already satisfied: wheel in /usr/local/lib/python3.8/dist-packages (from tensorflow-decision-forests>=1.0.1->tensorflowjs) (0.38.4)\n",
            "Requirement already satisfied: pygments<3.0.0,>=2.6.0 in /usr/local/lib/python3.8/dist-packages (from rich>=11.1->flax>=0.6.2->tensorflowjs) (2.6.1)\n",
            "Collecting commonmark<0.10.0,>=0.9.0\n",
            "  Downloading commonmark-0.9.1-py2.py3-none-any.whl (51 kB)\n",
            "\u001b[2K     \u001b[90m━━━━━━━━━━━━━━━━━━━━━━━━━━━━━━━━━━━━━━━━\u001b[0m \u001b[32m51.1/51.1 KB\u001b[0m \u001b[31m7.9 MB/s\u001b[0m eta \u001b[36m0:00:00\u001b[0m\n",
            "\u001b[?25hRequirement already satisfied: requests<3,>=2.21.0 in /usr/local/lib/python3.8/dist-packages (from tensorboard<2.12,>=2.11->tensorflow<3,>=2.10.0->tensorflowjs) (2.25.1)\n",
            "Requirement already satisfied: tensorboard-plugin-wit>=1.6.0 in /usr/local/lib/python3.8/dist-packages (from tensorboard<2.12,>=2.11->tensorflow<3,>=2.10.0->tensorflowjs) (1.8.1)\n",
            "Requirement already satisfied: werkzeug>=1.0.1 in /usr/local/lib/python3.8/dist-packages (from tensorboard<2.12,>=2.11->tensorflow<3,>=2.10.0->tensorflowjs) (1.0.1)\n",
            "Requirement already satisfied: google-auth-oauthlib<0.5,>=0.4.1 in /usr/local/lib/python3.8/dist-packages (from tensorboard<2.12,>=2.11->tensorflow<3,>=2.10.0->tensorflowjs) (0.4.6)\n",
            "Requirement already satisfied: google-auth<3,>=1.6.3 in /usr/local/lib/python3.8/dist-packages (from tensorboard<2.12,>=2.11->tensorflow<3,>=2.10.0->tensorflowjs) (2.15.0)\n",
            "Requirement already satisfied: tensorboard-data-server<0.7.0,>=0.6.0 in /usr/local/lib/python3.8/dist-packages (from tensorboard<2.12,>=2.11->tensorflow<3,>=2.10.0->tensorflowjs) (0.6.1)\n",
            "Requirement already satisfied: markdown>=2.6.8 in /usr/local/lib/python3.8/dist-packages (from tensorboard<2.12,>=2.11->tensorflow<3,>=2.10.0->tensorflowjs) (3.4.1)\n",
            "Requirement already satisfied: python-dateutil>=2.1 in /usr/local/lib/python3.8/dist-packages (from matplotlib->flax>=0.6.2->tensorflowjs) (2.8.2)\n",
            "Requirement already satisfied: cycler>=0.10 in /usr/local/lib/python3.8/dist-packages (from matplotlib->flax>=0.6.2->tensorflowjs) (0.11.0)\n",
            "Requirement already satisfied: kiwisolver>=1.0.1 in /usr/local/lib/python3.8/dist-packages (from matplotlib->flax>=0.6.2->tensorflowjs) (1.4.4)\n",
            "Collecting chex>=0.1.5\n",
            "  Downloading chex-0.1.5-py3-none-any.whl (85 kB)\n",
            "\u001b[2K     \u001b[90m━━━━━━━━━━━━━━━━━━━━━━━━━━━━━━━━━━━━━━━━\u001b[0m \u001b[32m85.3/85.3 KB\u001b[0m \u001b[31m13.6 MB/s\u001b[0m eta \u001b[36m0:00:00\u001b[0m\n",
            "\u001b[?25hRequirement already satisfied: jaxlib>=0.1.37 in /usr/local/lib/python3.8/dist-packages (from optax->flax>=0.6.2->tensorflowjs) (0.3.25+cuda11.cudnn805)\n",
            "Collecting cached_property\n",
            "  Downloading cached_property-1.5.2-py2.py3-none-any.whl (7.6 kB)\n",
            "Requirement already satisfied: etils in /usr/local/lib/python3.8/dist-packages (from orbax->flax>=0.6.2->tensorflowjs) (0.9.0)\n",
            "Requirement already satisfied: pytest in /usr/local/lib/python3.8/dist-packages (from orbax->flax>=0.6.2->tensorflowjs) (3.6.4)\n",
            "Requirement already satisfied: pytz>=2017.3 in /usr/local/lib/python3.8/dist-packages (from pandas->tensorflow-decision-forests>=1.0.1->tensorflowjs) (2022.7)\n",
            "Requirement already satisfied: dm-tree>=0.1.5 in /usr/local/lib/python3.8/dist-packages (from chex>=0.1.5->optax->flax>=0.6.2->tensorflowjs) (0.1.8)\n",
            "Requirement already satisfied: toolz>=0.9.0 in /usr/local/lib/python3.8/dist-packages (from chex>=0.1.5->optax->flax>=0.6.2->tensorflowjs) (0.12.0)\n",
            "Requirement already satisfied: pyasn1-modules>=0.2.1 in /usr/local/lib/python3.8/dist-packages (from google-auth<3,>=1.6.3->tensorboard<2.12,>=2.11->tensorflow<3,>=2.10.0->tensorflowjs) (0.2.8)\n",
            "Requirement already satisfied: cachetools<6.0,>=2.0.0 in /usr/local/lib/python3.8/dist-packages (from google-auth<3,>=1.6.3->tensorboard<2.12,>=2.11->tensorflow<3,>=2.10.0->tensorflowjs) (5.2.0)\n",
            "Requirement already satisfied: rsa<5,>=3.1.4 in /usr/local/lib/python3.8/dist-packages (from google-auth<3,>=1.6.3->tensorboard<2.12,>=2.11->tensorflow<3,>=2.10.0->tensorflowjs) (4.9)\n",
            "Requirement already satisfied: requests-oauthlib>=0.7.0 in /usr/local/lib/python3.8/dist-packages (from google-auth-oauthlib<0.5,>=0.4.1->tensorboard<2.12,>=2.11->tensorflow<3,>=2.10.0->tensorflowjs) (1.3.1)\n",
            "Requirement already satisfied: importlib-metadata>=4.4 in /usr/local/lib/python3.8/dist-packages (from markdown>=2.6.8->tensorboard<2.12,>=2.11->tensorflow<3,>=2.10.0->tensorflowjs) (6.0.0)\n",
            "Requirement already satisfied: chardet<5,>=3.0.2 in /usr/local/lib/python3.8/dist-packages (from requests<3,>=2.21.0->tensorboard<2.12,>=2.11->tensorflow<3,>=2.10.0->tensorflowjs) (4.0.0)\n",
            "Requirement already satisfied: idna<3,>=2.5 in /usr/local/lib/python3.8/dist-packages (from requests<3,>=2.21.0->tensorboard<2.12,>=2.11->tensorflow<3,>=2.10.0->tensorflowjs) (2.10)\n",
            "Requirement already satisfied: urllib3<1.27,>=1.21.1 in /usr/local/lib/python3.8/dist-packages (from requests<3,>=2.21.0->tensorboard<2.12,>=2.11->tensorflow<3,>=2.10.0->tensorflowjs) (1.24.3)\n",
            "Requirement already satisfied: certifi>=2017.4.17 in /usr/local/lib/python3.8/dist-packages (from requests<3,>=2.21.0->tensorboard<2.12,>=2.11->tensorflow<3,>=2.10.0->tensorflowjs) (2022.12.7)\n",
            "Requirement already satisfied: py>=1.5.0 in /usr/local/lib/python3.8/dist-packages (from pytest->orbax->flax>=0.6.2->tensorflowjs) (1.11.0)\n",
            "Requirement already satisfied: atomicwrites>=1.0 in /usr/local/lib/python3.8/dist-packages (from pytest->orbax->flax>=0.6.2->tensorflowjs) (1.4.1)\n",
            "Requirement already satisfied: attrs>=17.4.0 in /usr/local/lib/python3.8/dist-packages (from pytest->orbax->flax>=0.6.2->tensorflowjs) (22.2.0)\n",
            "Requirement already satisfied: pluggy<0.8,>=0.5 in /usr/local/lib/python3.8/dist-packages (from pytest->orbax->flax>=0.6.2->tensorflowjs) (0.7.1)\n",
            "Requirement already satisfied: more-itertools>=4.0.0 in /usr/local/lib/python3.8/dist-packages (from pytest->orbax->flax>=0.6.2->tensorflowjs) (9.0.0)\n",
            "Requirement already satisfied: pyasn1<0.5.0,>=0.4.6 in /usr/local/lib/python3.8/dist-packages (from pyasn1-modules>=0.2.1->google-auth<3,>=1.6.3->tensorboard<2.12,>=2.11->tensorflow<3,>=2.10.0->tensorflowjs) (0.4.8)\n",
            "Requirement already satisfied: oauthlib>=3.0.0 in /usr/local/lib/python3.8/dist-packages (from requests-oauthlib>=0.7.0->google-auth-oauthlib<0.5,>=0.4.1->tensorboard<2.12,>=2.11->tensorflow<3,>=2.10.0->tensorflowjs) (3.2.2)\n",
            "Installing collected packages: flatbuffers, commonmark, cached_property, wurlitzer, tensorstore, tensorflow-estimator, rich, packaging, keras, chex, tensorboard, optax, tensorflow, tensorflow-decision-forests, orbax, flax, tensorflowjs\n",
            "  Attempting uninstall: flatbuffers\n",
            "    Found existing installation: flatbuffers 1.12\n",
            "    Uninstalling flatbuffers-1.12:\n",
            "      Successfully uninstalled flatbuffers-1.12\n",
            "  Attempting uninstall: tensorflow-estimator\n",
            "    Found existing installation: tensorflow-estimator 2.9.0\n",
            "    Uninstalling tensorflow-estimator-2.9.0:\n",
            "      Successfully uninstalled tensorflow-estimator-2.9.0\n",
            "  Attempting uninstall: packaging\n",
            "    Found existing installation: packaging 21.3\n",
            "    Uninstalling packaging-21.3:\n",
            "      Successfully uninstalled packaging-21.3\n",
            "  Attempting uninstall: keras\n",
            "    Found existing installation: keras 2.9.0\n",
            "    Uninstalling keras-2.9.0:\n",
            "      Successfully uninstalled keras-2.9.0\n",
            "  Attempting uninstall: tensorboard\n",
            "    Found existing installation: tensorboard 2.9.1\n",
            "    Uninstalling tensorboard-2.9.1:\n",
            "      Successfully uninstalled tensorboard-2.9.1\n",
            "  Attempting uninstall: tensorflow\n",
            "    Found existing installation: tensorflow 2.9.2\n",
            "    Uninstalling tensorflow-2.9.2:\n",
            "      Successfully uninstalled tensorflow-2.9.2\n",
            "\u001b[31mERROR: pip's dependency resolver does not currently take into account all the packages that are installed. This behaviour is the source of the following dependency conflicts.\n",
            "xarray 2022.12.0 requires packaging>=21.3, but you have packaging 20.9 which is incompatible.\u001b[0m\u001b[31m\n",
            "\u001b[0mSuccessfully installed cached_property-1.5.2 chex-0.1.5 commonmark-0.9.1 flatbuffers-23.1.4 flax-0.6.3 keras-2.11.0 optax-0.1.4 orbax-0.1.0 packaging-20.9 rich-13.1.0 tensorboard-2.11.2 tensorflow-2.11.0 tensorflow-decision-forests-1.1.0 tensorflow-estimator-2.11.0 tensorflowjs-4.2.0 tensorstore-0.1.30 wurlitzer-3.0.3\n"
          ]
        }
      ]
    },
    {
      "cell_type": "code",
      "source": [
        "!mkdir carpeta_salida"
      ],
      "metadata": {
        "id": "0Msi2PpNUkEC"
      },
      "execution_count": null,
      "outputs": []
    },
    {
      "cell_type": "code",
      "source": [
        "!tensorflowjs_converter --input_format keras apple-banana.h5 carpeta_salida"
      ],
      "metadata": {
        "colab": {
          "base_uri": "https://localhost:8080/"
        },
        "id": "pcaYQGKBUmBI",
        "outputId": "8f22cbc1-6c40-4c83-d6ac-c302353a2c17"
      },
      "execution_count": null,
      "outputs": [
        {
          "output_type": "stream",
          "name": "stdout",
          "text": [
            "2023-01-15 07:30:52.111735: W tensorflow/compiler/xla/stream_executor/platform/default/dso_loader.cc:64] Could not load dynamic library 'libnvinfer.so.7'; dlerror: libnvinfer.so.7: cannot open shared object file: No such file or directory; LD_LIBRARY_PATH: /usr/lib64-nvidia\n",
            "2023-01-15 07:30:52.111977: W tensorflow/compiler/xla/stream_executor/platform/default/dso_loader.cc:64] Could not load dynamic library 'libnvinfer_plugin.so.7'; dlerror: libnvinfer_plugin.so.7: cannot open shared object file: No such file or directory; LD_LIBRARY_PATH: /usr/lib64-nvidia\n",
            "2023-01-15 07:30:52.112016: W tensorflow/compiler/tf2tensorrt/utils/py_utils.cc:38] TF-TRT Warning: Cannot dlopen some TensorRT libraries. If you would like to use Nvidia GPU with TensorRT, please make sure the missing libraries mentioned above are installed properly.\n"
          ]
        }
      ]
    },
    {
      "cell_type": "code",
      "source": [
        "!ls carpeta_salida"
      ],
      "metadata": {
        "colab": {
          "base_uri": "https://localhost:8080/"
        },
        "id": "F8nMkRiaUn56",
        "outputId": "99960290-1d72-4784-b8b0-3024eb00fba1"
      },
      "execution_count": null,
      "outputs": [
        {
          "output_type": "stream",
          "name": "stdout",
          "text": [
            "group1-shard1of4.bin  group1-shard3of4.bin  model.json\n",
            "group1-shard2of4.bin  group1-shard4of4.bin\n"
          ]
        }
      ]
    }
  ]
}